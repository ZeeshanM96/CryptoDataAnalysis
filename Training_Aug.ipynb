{
 "cells": [
  {
   "cell_type": "code",
   "execution_count": 386,
   "id": "bd3e43f6",
   "metadata": {},
   "outputs": [],
   "source": [
    "import pandas as pd\n",
    "import numpy as np\n",
    "import matplotlib.pyplot as plt\n",
    "from statsmodels.tsa.arima.model import ARIMA\n",
    "from sklearn.linear_model import LinearRegression\n",
    "from sklearn.preprocessing import StandardScaler\n",
    "from sklearn.metrics import r2_score"
   ]
  },
  {
   "cell_type": "code",
   "execution_count": 387,
   "id": "fd1d05b9",
   "metadata": {},
   "outputs": [],
   "source": [
    "# Load data from CSV file\n",
    "df = pd.read_csv('crypto_data_27_august.csv')"
   ]
  },
  {
   "cell_type": "code",
   "execution_count": 388,
   "id": "82da6735",
   "metadata": {},
   "outputs": [],
   "source": [
    "# Convert 'Date' column to datetime\n",
    "try:\n",
    "    df['Date'] = pd.to_datetime(df['Date'], format='%Y-%m-%d')\n",
    "except ValueError:\n",
    "    df['Date'] = pd.to_datetime(df['Date'], format='%d/%m/%Y')"
   ]
  },
  {
   "cell_type": "code",
   "execution_count": 389,
   "id": "2ab30eeb",
   "metadata": {},
   "outputs": [],
   "source": [
    "# Set 'Date' column as index\n",
    "df.set_index('Date', inplace=True)"
   ]
  },
  {
   "cell_type": "code",
   "execution_count": 390,
   "id": "6dc8e9d1",
   "metadata": {},
   "outputs": [],
   "source": [
    "# Split data into training and testing sets\n",
    "train_data = df.loc[:'2022-01-31']\n",
    "test_data = df.loc['2017-02-01':]"
   ]
  },
  {
   "cell_type": "code",
   "execution_count": 391,
   "id": "492eab01",
   "metadata": {},
   "outputs": [
    {
     "name": "stderr",
     "output_type": "stream",
     "text": [
      "C:\\Users\\zeesh\\anaconda3\\lib\\site-packages\\statsmodels\\tsa\\base\\tsa_model.py:471: ValueWarning: No frequency information was provided, so inferred frequency D will be used.\n",
      "  self._init_dates(dates, freq)\n",
      "C:\\Users\\zeesh\\anaconda3\\lib\\site-packages\\statsmodels\\tsa\\base\\tsa_model.py:471: ValueWarning: No frequency information was provided, so inferred frequency D will be used.\n",
      "  self._init_dates(dates, freq)\n",
      "C:\\Users\\zeesh\\anaconda3\\lib\\site-packages\\statsmodels\\tsa\\base\\tsa_model.py:471: ValueWarning: No frequency information was provided, so inferred frequency D will be used.\n",
      "  self._init_dates(dates, freq)\n"
     ]
    }
   ],
   "source": [
    "model = ARIMA(train_data['Adj Close (BTC)'], order=(5,1,0))\n",
    "results = model.fit()"
   ]
  },
  {
   "cell_type": "code",
   "execution_count": 392,
   "id": "18908e5c",
   "metadata": {},
   "outputs": [],
   "source": [
    "# Forecast values for next month\n",
    "start_index = len(train_data)\n",
    "end_index = len(train_data) + len(test_data) - 1\n"
   ]
  },
  {
   "cell_type": "code",
   "execution_count": 393,
   "id": "dada7151",
   "metadata": {},
   "outputs": [],
   "source": [
    "forecast = results.predict(start=start_index, end=end_index, typ='levels')"
   ]
  },
  {
   "cell_type": "code",
   "execution_count": 394,
   "id": "919208b8",
   "metadata": {},
   "outputs": [
    {
     "data": {
      "image/png": "[encoded data removed]",
      "text/plain": [
       "<Figure size 432x288 with 1 Axes>"
      ]
     },
     "metadata": {
      "needs_background": "light"
     },
     "output_type": "display_data"
    }
   ],
   "source": [
    "# Plot actual and predicted values\n",
    "plt.plot(test_data['Adj Close (BTC)'], label='Actual')\n",
    "plt.plot(forecast, label='Forecast')\n",
    "plt.legend()\n",
    "plt.show()\n"
   ]
  },
  {
   "cell_type": "code",
   "execution_count": 395,
   "id": "4aa09523",
   "metadata": {},
   "outputs": [],
   "source": [
    "# Scale the volume data\n",
    "scaler = StandardScaler()\n",
    "X_train = scaler.fit_transform(train_data[['Volume (BTC)', 'Volume (ETH)', 'Volume (USDT)', 'Volume (BNB)']])\n",
    "X_test = scaler.transform(test_data[['Volume (BTC)', 'Volume (ETH)', 'Volume (USDT)', 'Volume (BNB)']])\n"
   ]
  },
  {
   "cell_type": "code",
   "execution_count": 396,
   "id": "08699b8e",
   "metadata": {},
   "outputs": [
    {
     "data": {
      "text/plain": [
       "LinearRegression()"
      ]
     },
     "execution_count": 396,
     "metadata": {},
     "output_type": "execute_result"
    }
   ],
   "source": [
    "# Fit linear regression model to training data\n",
    "regressor = LinearRegression()\n",
    "regressor.fit(X_train, train_data['Adj Close (BTC)'])\n"
   ]
  },
  {
   "cell_type": "code",
   "execution_count": 397,
   "id": "14640048",
   "metadata": {},
   "outputs": [],
   "source": [
    "y_pred = regressor.predict(X_test)\n",
    "r2 = r2_score(test_data['Adj Close (BTC)'], y_pred)"
   ]
  },
  {
   "cell_type": "code",
   "execution_count": 398,
   "id": "19247b4a",
   "metadata": {},
   "outputs": [
    {
     "name": "stdout",
     "output_type": "stream",
     "text": [
      "R-squared score: 0.7012961185241797\n"
     ]
    }
   ],
   "source": [
    "print('R-squared score:', r2)"
   ]
  },
  {
   "cell_type": "code",
   "execution_count": null,
   "id": "18d08609",
   "metadata": {},
   "outputs": [],
   "source": []
  },
  {
   "cell_type": "code",
   "execution_count": null,
   "id": "72467da5",
   "metadata": {},
   "outputs": [],
   "source": []
  }
 ],
 "metadata": {
  "kernelspec": {
   "display_name": "Python 3 (ipykernel)",
   "language": "python",
   "name": "python3"
  },
  "language_info": {
   "codemirror_mode": {
    "name": "ipython",
    "version": 3
   },
   "file_extension": ".py",
   "mimetype": "text/x-python",
   "name": "python",
   "nbconvert_exporter": "python",
   "pygments_lexer": "ipython3",
   "version": "3.9.12"
  }
 },
 "nbformat": 4,
 "nbformat_minor": 5
}
